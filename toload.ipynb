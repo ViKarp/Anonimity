{
 "cells": [
  {
   "cell_type": "code",
   "execution_count": 2,
   "id": "b4347216",
   "metadata": {},
   "outputs": [
    {
     "name": "stdout",
     "output_type": "stream",
     "text": [
      "Collecting fakerNote: you may need to restart the kernel to use updated packages.\n",
      "  Downloading Faker-15.3.2-py3-none-any.whl (1.6 MB)\n",
      "Requirement already satisfied: python-dateutil>=2.4 in d:\\programs\\anac\\lib\\site-packages (from faker) (2.8.2)\n",
      "Requirement already satisfied: six>=1.5 in d:\\programs\\anac\\lib\\site-packages (from python-dateutil>=2.4->faker) (1.16.0)\n",
      "Installing collected packages: faker\n",
      "Successfully installed faker-15.3.2\n",
      "\n"
     ]
    }
   ],
   "source": [
    "pip  install faker"
   ]
  },
  {
   "cell_type": "code",
   "execution_count": 12,
   "id": "9d32947a",
   "metadata": {},
   "outputs": [
    {
     "name": "stdout",
     "output_type": "stream",
     "text": [
      "37\n",
      "Сколько сгенерировать строк?\n",
      "\n",
      "250000\n",
      "READY\n"
     ]
    }
   ],
   "source": [
    "import datetime\n",
    "from random import randint\n",
    "\n",
    "import pandas as pd\n",
    "from faker import Faker\n",
    "import codecs \n",
    "\n",
    "f = codecs.open('ads.txt',encoding='utf-8') \n",
    "fakeRU = Faker([\"ru_RU\"])\n",
    "fake = Faker()\n",
    "# Faker.seed(0)\n",
    "#f = open()\n",
    "s = f.readline()\n",
    "type_ads = []\n",
    "while s:\n",
    "    if \":\" not in s:\n",
    "        type_ads.append(s[:-2])\n",
    "    else:\n",
    "        temp = [s[:s.index(\":\")]] + s[s.index(\":\") + 1:-1].split(\";\")\n",
    "        for i in range(1, len(temp)):\n",
    "            type_ads.append(temp[0] + temp[i])\n",
    "    s = f.readline()\n",
    "f.close()\n",
    "columns = [\"Пользователь\", \"IP адрес\", \"Платформы\", \"Дата просмотра\", \"Кол-во рекламы\", \"Время просмотра рекламы\",\n",
    "           \"Вид рекламы\"]\n",
    "sites = ['youtube.com', 'tiktok.com', 'instagram.com', 'dailymotion.com', 'vimeo.com', 'facebook.com', 'twitter.com',\n",
    "         'qzone.qq.com', 'weibo.com', 'linkedln.com', 'tumblr.com', 'change.org', 'renren.com', 'brainly.com',\n",
    "         'pinterest.com', 'tagged.com', 'ask.fm', 'flickr.com', 'classmates.com', 'livejournal.com', 'reddit.com',\n",
    "         'deviantart.com', 'mixi.jp', 'myspace.com', 'toxicbun.com', 'vimple.com', 'wistia.com', 'cincopa.com',\n",
    "         'vidyard.com', 'brightcove.com', 'twentythree.com', 'sproutvideo.com', 'dacast.com', 'onlyfans.com',\n",
    "         'netflix.com', 'primevideo.com', 'tv.apple.com']\n",
    "sitesRU = ['dzen.ru', 'vk.com', 'ok.ru', 'rutube.ru', 'my.mail.ru', 'okko.tv', 'ivi.ru', 'kion.ru', 'megogo.net',\n",
    "           'start.ru', 'premier.one', 'tvigle.ru', 'wink.ru']\n",
    "print(len(sites))\n",
    "df = []\n",
    "print(\"Сколько сгенерировать строк?\\n\")\n",
    "st = int(input())\n",
    "stRu = randint(int(st/10), int(st/2))\n",
    "for i in range(stRu):\n",
    "    n = randint(1, 100)\n",
    "    sec = randint(30, 120)\n",
    "    df.append([fakeRU.free_email(), fakeRU.ipv4(), sitesRU[randint(0, len(sitesRU) - 1)],\n",
    "               fakeRU.date_between(datetime.date(2022, 6, 1), datetime.date(2022, 9, 1)), n, n * sec,\n",
    "               type_ads[randint(0, len(type_ads) - 1)]])\n",
    "for i in range(stRu, st):\n",
    "    n = randint(1, 100)\n",
    "    sec = randint(30, 120)\n",
    "    df.append([fake.free_email(), fake.ipv4(), sites[randint(0, len(sites) - 1)],\n",
    "               fake.date_between(datetime.date(2022, 6, 1), datetime.date(2022, 9, 1)), n, n * sec,\n",
    "               type_ads[randint(0, len(type_ads) - 1)]])\n",
    "df = pd.DataFrame(df, columns=columns)\n",
    "df.to_csv(r'advertisement.csv', mode='a', index=False)\n",
    "print(\"READY\")"
   ]
  },
  {
   "cell_type": "code",
   "execution_count": null,
   "id": "488c22f6",
   "metadata": {},
   "outputs": [],
   "source": []
  }
 ],
 "metadata": {
  "kernelspec": {
   "display_name": "Python 3 (ipykernel)",
   "language": "python",
   "name": "python3"
  },
  "language_info": {
   "codemirror_mode": {
    "name": "ipython",
    "version": 3
   },
   "file_extension": ".py",
   "mimetype": "text/x-python",
   "name": "python",
   "nbconvert_exporter": "python",
   "pygments_lexer": "ipython3",
   "version": "3.9.7"
  }
 },
 "nbformat": 4,
 "nbformat_minor": 5
}
